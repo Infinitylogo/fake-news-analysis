{
  "nbformat": 4,
  "nbformat_minor": 0,
  "metadata": {
    "kernelspec": {
      "display_name": "Python 3",
      "language": "python",
      "name": "python3"
    },
    "language_info": {
      "codemirror_mode": {
        "name": "ipython",
        "version": 3
      },
      "file_extension": ".py",
      "mimetype": "text/x-python",
      "name": "python",
      "nbconvert_exporter": "python",
      "pygments_lexer": "ipython3",
      "version": "3.7.7"
    },
    "colab": {
      "name": "fake_news.ipynb",
      "provenance": [],
      "include_colab_link": true
    }
  },
  "cells": [
    {
      "cell_type": "markdown",
      "metadata": {
        "id": "view-in-github",
        "colab_type": "text"
      },
      "source": [
        "<a href=\"https://colab.research.google.com/github/Infinitylogo/fake-news-analysis/blob/master/fake_news.ipynb\" target=\"_parent\"><img src=\"https://colab.research.google.com/assets/colab-badge.svg\" alt=\"Open In Colab\"/></a>"
      ]
    },
    {
      "cell_type": "code",
      "metadata": {
        "id": "_dGnF3Wq9_m8",
        "colab_type": "code",
        "colab": {}
      },
      "source": [
        "import pandas as pd\n",
        "import numpy as np"
      ],
      "execution_count": 1,
      "outputs": []
    },
    {
      "cell_type": "code",
      "metadata": {
        "id": "Pjm3841e9_nF",
        "colab_type": "code",
        "colab": {
          "base_uri": "https://localhost:8080/",
          "height": 598
        },
        "outputId": "28c983ad-43da-4f26-e212-bfc892427603"
      },
      "source": [
        "df = pd.read_csv('Book5.csv')\n",
        "df.head()"
      ],
      "execution_count": 3,
      "outputs": [
        {
          "output_type": "execute_result",
          "data": {
            "text/html": [
              "<div>\n",
              "<style scoped>\n",
              "    .dataframe tbody tr th:only-of-type {\n",
              "        vertical-align: middle;\n",
              "    }\n",
              "\n",
              "    .dataframe tbody tr th {\n",
              "        vertical-align: top;\n",
              "    }\n",
              "\n",
              "    .dataframe thead th {\n",
              "        text-align: right;\n",
              "    }\n",
              "</style>\n",
              "<table border=\"1\" class=\"dataframe\">\n",
              "  <thead>\n",
              "    <tr style=\"text-align: right;\">\n",
              "      <th></th>\n",
              "      <th>Unnamed: 0</th>\n",
              "      <th>id</th>\n",
              "      <th>domain</th>\n",
              "      <th>type</th>\n",
              "      <th>url</th>\n",
              "      <th>content</th>\n",
              "      <th>scraped_at</th>\n",
              "      <th>inserted_at</th>\n",
              "      <th>updated_at</th>\n",
              "      <th>title</th>\n",
              "      <th>authors</th>\n",
              "      <th>keywords</th>\n",
              "      <th>meta_keywords</th>\n",
              "      <th>meta_description</th>\n",
              "      <th>tags</th>\n",
              "      <th>summary</th>\n",
              "      <th>source</th>\n",
              "    </tr>\n",
              "  </thead>\n",
              "  <tbody>\n",
              "    <tr>\n",
              "      <th>0</th>\n",
              "      <td>0</td>\n",
              "      <td>2</td>\n",
              "      <td>express.co.uk</td>\n",
              "      <td>rumor</td>\n",
              "      <td>https://www.express.co.uk/news/science/738402/...</td>\n",
              "      <td>Life is an illusion, at least on a quantum lev...</td>\n",
              "      <td>17:44.8</td>\n",
              "      <td>19:41.8</td>\n",
              "      <td>19:41.8</td>\n",
              "      <td>Is life an ILLUSION? Researchers prove 'realit...</td>\n",
              "      <td>Sean Martin</td>\n",
              "      <td>NaN</td>\n",
              "      <td>['']</td>\n",
              "      <td>THE UNIVERSE ceases to exist when we are not l...</td>\n",
              "      <td>NaN</td>\n",
              "      <td>NaN</td>\n",
              "      <td>NaN</td>\n",
              "    </tr>\n",
              "    <tr>\n",
              "      <th>1</th>\n",
              "      <td>1</td>\n",
              "      <td>6</td>\n",
              "      <td>barenakedislam.com</td>\n",
              "      <td>hate</td>\n",
              "      <td>http://barenakedislam.com/category/donald-trum...</td>\n",
              "      <td>Unfortunately, he hasn’t yet attacked her for ...</td>\n",
              "      <td>17:44.8</td>\n",
              "      <td>19:41.8</td>\n",
              "      <td>19:41.8</td>\n",
              "      <td>Donald Trump</td>\n",
              "      <td>Linda Rivera, Conrad Calvano, Az Gal, Lincoln ...</td>\n",
              "      <td>NaN</td>\n",
              "      <td>['']</td>\n",
              "      <td>NaN</td>\n",
              "      <td>NaN</td>\n",
              "      <td>NaN</td>\n",
              "      <td>NaN</td>\n",
              "    </tr>\n",
              "    <tr>\n",
              "      <th>2</th>\n",
              "      <td>2</td>\n",
              "      <td>7</td>\n",
              "      <td>barenakedislam.com</td>\n",
              "      <td>hate</td>\n",
              "      <td>http://barenakedislam.com/category/donald-trum...</td>\n",
              "      <td>The Los Angeles Police Department has been den...</td>\n",
              "      <td>17:44.8</td>\n",
              "      <td>19:41.8</td>\n",
              "      <td>19:41.8</td>\n",
              "      <td>Donald Trump</td>\n",
              "      <td>Linda Rivera, Conrad Calvano, Az Gal, Lincoln ...</td>\n",
              "      <td>NaN</td>\n",
              "      <td>['']</td>\n",
              "      <td>NaN</td>\n",
              "      <td>NaN</td>\n",
              "      <td>NaN</td>\n",
              "      <td>NaN</td>\n",
              "    </tr>\n",
              "    <tr>\n",
              "      <th>3</th>\n",
              "      <td>3</td>\n",
              "      <td>8</td>\n",
              "      <td>barenakedislam.com</td>\n",
              "      <td>hate</td>\n",
              "      <td>http://barenakedislam.com/2017/12/24/more-winn...</td>\n",
              "      <td>The White House has decided to quietly withdra...</td>\n",
              "      <td>17:44.8</td>\n",
              "      <td>19:41.8</td>\n",
              "      <td>19:41.8</td>\n",
              "      <td>MORE WINNING! Israeli intelligence source, DEB...</td>\n",
              "      <td>Cleavis Nowell, Cleavisnowell, Clarence J. Fei...</td>\n",
              "      <td>NaN</td>\n",
              "      <td>['']</td>\n",
              "      <td>NaN</td>\n",
              "      <td>NaN</td>\n",
              "      <td>NaN</td>\n",
              "      <td>NaN</td>\n",
              "    </tr>\n",
              "    <tr>\n",
              "      <th>4</th>\n",
              "      <td>4</td>\n",
              "      <td>9</td>\n",
              "      <td>barenakedislam.com</td>\n",
              "      <td>hate</td>\n",
              "      <td>http://barenakedislam.com/2017/12/25/oh-trump-...</td>\n",
              "      <td>“The time has come to cut off the tongues of t...</td>\n",
              "      <td>17:44.8</td>\n",
              "      <td>19:41.8</td>\n",
              "      <td>19:41.8</td>\n",
              "      <td>“Oh, Trump, you coward, you just wait, we will...</td>\n",
              "      <td>F.N. Lehner, Don Spilman, Clarence J. Feinour,...</td>\n",
              "      <td>NaN</td>\n",
              "      <td>['']</td>\n",
              "      <td>NaN</td>\n",
              "      <td>NaN</td>\n",
              "      <td>NaN</td>\n",
              "      <td>NaN</td>\n",
              "    </tr>\n",
              "  </tbody>\n",
              "</table>\n",
              "</div>"
            ],
            "text/plain": [
              "   Unnamed: 0  id              domain  ... tags summary source\n",
              "0           0   2       express.co.uk  ...  NaN     NaN    NaN\n",
              "1           1   6  barenakedislam.com  ...  NaN     NaN    NaN\n",
              "2           2   7  barenakedislam.com  ...  NaN     NaN    NaN\n",
              "3           3   8  barenakedislam.com  ...  NaN     NaN    NaN\n",
              "4           4   9  barenakedislam.com  ...  NaN     NaN    NaN\n",
              "\n",
              "[5 rows x 17 columns]"
            ]
          },
          "metadata": {
            "tags": []
          },
          "execution_count": 3
        }
      ]
    },
    {
      "cell_type": "code",
      "metadata": {
        "id": "XML40iro9_nN",
        "colab_type": "code",
        "colab": {}
      },
      "source": [
        "import pandas as pd\n",
        "import numpy as np\n",
        "import matplotlib.pyplot as plt\n",
        "from sklearn.model_selection import train_test_split\n",
        "from sklearn.feature_extraction.text import TfidfVectorizer\n",
        "import itertools\n",
        "from sklearn.naive_bayes import MultinomialNB\n",
        "from sklearn import metrics\n",
        "from sklearn.linear_model import PassiveAggressiveClassifier\n",
        "import os"
      ],
      "execution_count": 4,
      "outputs": []
    },
    {
      "cell_type": "code",
      "metadata": {
        "id": "2qXaIt7p9_nU",
        "colab_type": "code",
        "colab": {
          "base_uri": "https://localhost:8080/",
          "height": 119
        },
        "outputId": "395a0ad3-8370-4ee8-fdc6-483381548e91"
      },
      "source": [
        "labels=df.type\n",
        "labels.head()"
      ],
      "execution_count": 5,
      "outputs": [
        {
          "output_type": "execute_result",
          "data": {
            "text/plain": [
              "0    rumor\n",
              "1     hate\n",
              "2     hate\n",
              "3     hate\n",
              "4     hate\n",
              "Name: type, dtype: object"
            ]
          },
          "metadata": {
            "tags": []
          },
          "execution_count": 5
        }
      ]
    },
    {
      "cell_type": "code",
      "metadata": {
        "id": "gCfocXCt9_nh",
        "colab_type": "code",
        "colab": {}
      },
      "source": [
        "x_train,x_test,y_train,y_test=train_test_split(df['content'], labels, test_size=0.2, random_state=7)"
      ],
      "execution_count": 6,
      "outputs": []
    },
    {
      "cell_type": "code",
      "metadata": {
        "id": "KLTBeP979_nt",
        "colab_type": "code",
        "colab": {}
      },
      "source": [
        "#Applying tfidf to the data set\n",
        "tfidf_vect = TfidfVectorizer(stop_words = 'english')\n",
        "tfidf_train = tfidf_vect.fit_transform(x_train)\n",
        "tfidf_test = tfidf_vect.transform(x_test)\n",
        "tfidf_df = pd.DataFrame(tfidf_train.A, columns=tfidf_vect.get_feature_names())"
      ],
      "execution_count": 7,
      "outputs": []
    },
    {
      "cell_type": "code",
      "metadata": {
        "id": "XFX4pXwD9_n1",
        "colab_type": "code",
        "colab": {
          "base_uri": "https://localhost:8080/",
          "height": 68
        },
        "outputId": "ac99c250-3cec-4fc1-fa31-3d12cac38953"
      },
      "source": [
        "y_train.unique()"
      ],
      "execution_count": 8,
      "outputs": [
        {
          "output_type": "execute_result",
          "data": {
            "text/plain": [
              "array(['conspiracy', 'fake', 'clickbait', 'satire', 'unreliable',\n",
              "       'junksci', 'hate', 'reliable', 'political', 'bias', 'rumor'],\n",
              "      dtype=object)"
            ]
          },
          "metadata": {
            "tags": []
          },
          "execution_count": 8
        }
      ]
    },
    {
      "cell_type": "code",
      "metadata": {
        "id": "V6cbc0-b9_n9",
        "colab_type": "code",
        "colab": {
          "base_uri": "https://localhost:8080/",
          "height": 221
        },
        "outputId": "b9ed62a3-dba6-4535-b5ce-5b15950d3610"
      },
      "source": [
        "clf = MultinomialNB() \n",
        "clf.fit(tfidf_train, y_train)                       # Fit Naive Bayes classifier according to X, y\n",
        "pred = clf.predict(tfidf_test)                     # Perform classification on an array of test vectors X.\n",
        "score = metrics.accuracy_score(y_test, pred)\n",
        "print(\"accuracy:   %0.3f\" % score)\n",
        "cm = metrics.confusion_matrix(y_test, pred)\n",
        "print(cm)"
      ],
      "execution_count": 9,
      "outputs": [
        {
          "output_type": "stream",
          "text": [
            "accuracy:   0.540\n",
            "[[  0   0  24   4   0   0   0   0   0   0   0]\n",
            " [  0   0  27  11   0   0   0   0   0   0   0]\n",
            " [  0   0 273  13   0   0   0   0   0   0   0]\n",
            " [  0   0  53 244   0   0   0   0   0   0   0]\n",
            " [  0   0  54   3   9   0   0   0   0   0   0]\n",
            " [  0   0  23  17   0   0   0   0   0   0   0]\n",
            " [  0   0  46   8   0   0   6   0   0   0   0]\n",
            " [  0   0  39   4   0   0   0   0   0   0   0]\n",
            " [  0   0   6   8   0   0   0   0   0   0   0]\n",
            " [  0   0  24   5   0   0   0   0   0   0   0]\n",
            " [  0   0  73  17   0   0   0   0   0   0   7]]\n"
          ],
          "name": "stdout"
        }
      ]
    },
    {
      "cell_type": "code",
      "metadata": {
        "id": "WWU_aEXj9_oE",
        "colab_type": "code",
        "colab": {
          "base_uri": "https://localhost:8080/",
          "height": 221
        },
        "outputId": "b2af6fbe-0f93-4a06-d5e7-4351e52dcd7f"
      },
      "source": [
        "linear_clf = PassiveAggressiveClassifier(max_iter=1000, random_state=0)\n",
        "linear_clf.fit(tfidf_train, y_train)\n",
        "pred = linear_clf.predict(tfidf_test)\n",
        "score = metrics.accuracy_score(y_test, pred)\n",
        "print(\"accuracy:   %0.3f\" % score)\n",
        "cm = metrics.confusion_matrix(y_test, pred)\n",
        "print(cm)"
      ],
      "execution_count": 10,
      "outputs": [
        {
          "output_type": "stream",
          "text": [
            "accuracy:   0.832\n",
            "[[ 23   0   1   0   0   1   1   1   0   1   0]\n",
            " [  0  27   5   3   0   0   0   0   1   0   2]\n",
            " [  0   1 262   8   1   2   3   0   0   3   6]\n",
            " [  0   3  13 275   2   0   0   0   0   3   1]\n",
            " [  0   0   6   2  54   1   0   0   0   0   3]\n",
            " [  0   0   8   7   0  19   0   0   0   2   4]\n",
            " [  1   2   6   3   1   0  39   5   0   1   2]\n",
            " [  2   2   1   2   0   0   4  27   0   2   3]\n",
            " [  0   1   2   1   0   0   0   0  10   0   0]\n",
            " [  0   0   4   0   0   0   1   0   0  22   2]\n",
            " [  1   1  13   4   1   1   1   2   0   1  72]]\n"
          ],
          "name": "stdout"
        }
      ]
    }
  ]
}